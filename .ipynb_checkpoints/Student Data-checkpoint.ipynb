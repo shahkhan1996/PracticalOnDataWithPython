{
 "cells": [
  {
   "cell_type": "code",
   "execution_count": 1,
   "id": "48460730-4ae9-4ec4-bd0d-ca1b7a7511f6",
   "metadata": {},
   "outputs": [
    {
     "data": {
      "text/plain": [
       "<_io.TextIOWrapper name='student data.csv' mode='r' encoding='cp1252'>"
      ]
     },
     "execution_count": 1,
     "metadata": {},
     "output_type": "execute_result"
    }
   ],
   "source": [
    "import csv\n",
    "open_file = open(\"student data.csv\", mode=\"r\")\n",
    "open_file"
   ]
  },
  {
   "cell_type": "code",
   "execution_count": 2,
   "id": "9aa97bdc-ef84-4ab3-824f-d3fefc74c7f4",
   "metadata": {},
   "outputs": [
    {
     "data": {
      "text/plain": [
       "<_csv.reader at 0x23552bb7460>"
      ]
     },
     "execution_count": 2,
     "metadata": {},
     "output_type": "execute_result"
    }
   ],
   "source": [
    "read = csv.reader(open_file)\n",
    "read"
   ]
  },
  {
   "cell_type": "code",
   "execution_count": 3,
   "id": "b5a6bfe1-ce7f-4084-bf59-7d508045d657",
   "metadata": {},
   "outputs": [
    {
     "data": {
      "text/plain": [
       "[['roll no', 'Name', 'Chemistry', 'Physics', 'Math'],\n",
       " ['101', 'Aliza', '50', '23', '87'],\n",
       " ['102', 'Fareed', '45', '24', '88'],\n",
       " ['103', 'Basit', '46', '25', '89'],\n",
       " ['104', 'Abdullah', '47', '26', '90'],\n",
       " ['105', 'Ali', '48', '27', '67'],\n",
       " ['106', 'Mubashir', '49', '28', '68'],\n",
       " ['107', 'Waleed', '50', '29', '69'],\n",
       " ['108', 'Mansoor', '51', '30', '70'],\n",
       " ['109', 'Zain', '52', '31', '71'],\n",
       " ['110', 'Mohsin', '53', '67', '72'],\n",
       " ['111', 'Shahmeer', '54', '68', '73'],\n",
       " ['112', 'Rao', '55', '69', '74'],\n",
       " ['113', 'Aurangzeb', '56', '70', '75'],\n",
       " ['114', 'Zeeshan', '57', '71', '76'],\n",
       " ['115', 'Hamna', '58', '72', '77'],\n",
       " ['116', 'Hamza', '59', '73', '78'],\n",
       " ['117', 'Khalid', '60', '74', '79'],\n",
       " ['118', 'Behroz', '61', '75', '80'],\n",
       " ['119', 'Justin', '62', '76', '81'],\n",
       " ['120', 'Danish', '63', '77', '82'],\n",
       " ['121', 'Kainat', '64', '78', '83'],\n",
       " ['122', 'Sameer', '65', '79', '84'],\n",
       " ['123', 'Raza', '66', '80', '85'],\n",
       " ['124', 'Kumar', '67', '81', '86'],\n",
       " ['125', 'Komal', '68', '82', '87'],\n",
       " ['126', 'Erum', '69', '83', '88'],\n",
       " ['127', 'Faiza', '70', '84', '89'],\n",
       " ['128', 'Saeed', '71', '85', '90'],\n",
       " ['129', 'Waqar', '72', '86', '91'],\n",
       " ['130', 'Wali', '73', '87', '92'],\n",
       " ['131', 'Wajid', '74', '88', '93'],\n",
       " ['132', 'Waseeb', '75', '89', '94'],\n",
       " ['133', 'Shiza', '76', '90', '95'],\n",
       " ['134', 'Shabina', '77', '91', '96'],\n",
       " ['135', 'Shazain', '78', '55', '97'],\n",
       " ['136', 'Lubna', '79', '61', '98'],\n",
       " ['137', 'Laiba', '80', '88', '78'],\n",
       " ['138', 'Khursheed', '81', '56', '45'],\n",
       " ['139', 'Ali', '82', '89', '46'],\n",
       " ['140', 'Aiza', '83', '45', '89'],\n",
       " ['141', 'Aiman', '84', '92', '78'],\n",
       " ['142', 'Yasmeen', '85', '36', '56'],\n",
       " ['143', 'Tasbeel', '86', '78', '78'],\n",
       " ['144', 'Laraib', '87', '56', '54'],\n",
       " ['145', 'Saleem', '88', '78', '78'],\n",
       " ['146', 'Bismil', '89', '89', '46'],\n",
       " ['147', 'Batool', '90', '56', '79'],\n",
       " ['148', 'Iqra', '91', '33', '46'],\n",
       " ['149', 'Zarnish', '92', '78', '45'],\n",
       " ['150', 'Zara', '83', '45', '56']]"
      ]
     },
     "execution_count": 3,
     "metadata": {},
     "output_type": "execute_result"
    }
   ],
   "source": [
    "data = list(read)\n",
    "data"
   ]
  },
  {
   "cell_type": "code",
   "execution_count": 4,
   "id": "03700d3a-b0cc-479e-a042-cc5bd0d9fdd7",
   "metadata": {},
   "outputs": [
    {
     "data": {
      "text/plain": [
       "['roll no', 'Name', 'Chemistry', 'Physics', 'Math']"
      ]
     },
     "execution_count": 4,
     "metadata": {},
     "output_type": "execute_result"
    }
   ],
   "source": [
    "header = data[0]\n",
    "header"
   ]
  },
  {
   "cell_type": "code",
   "execution_count": 5,
   "id": "2974df7c-0329-46a4-ba7a-6a25ae9010d6",
   "metadata": {},
   "outputs": [
    {
     "data": {
      "text/plain": [
       "[['101', 'Aliza', '50', '23', '87'],\n",
       " ['102', 'Fareed', '45', '24', '88'],\n",
       " ['103', 'Basit', '46', '25', '89'],\n",
       " ['104', 'Abdullah', '47', '26', '90'],\n",
       " ['105', 'Ali', '48', '27', '67'],\n",
       " ['106', 'Mubashir', '49', '28', '68'],\n",
       " ['107', 'Waleed', '50', '29', '69'],\n",
       " ['108', 'Mansoor', '51', '30', '70'],\n",
       " ['109', 'Zain', '52', '31', '71'],\n",
       " ['110', 'Mohsin', '53', '67', '72'],\n",
       " ['111', 'Shahmeer', '54', '68', '73'],\n",
       " ['112', 'Rao', '55', '69', '74'],\n",
       " ['113', 'Aurangzeb', '56', '70', '75'],\n",
       " ['114', 'Zeeshan', '57', '71', '76'],\n",
       " ['115', 'Hamna', '58', '72', '77'],\n",
       " ['116', 'Hamza', '59', '73', '78'],\n",
       " ['117', 'Khalid', '60', '74', '79'],\n",
       " ['118', 'Behroz', '61', '75', '80'],\n",
       " ['119', 'Justin', '62', '76', '81'],\n",
       " ['120', 'Danish', '63', '77', '82'],\n",
       " ['121', 'Kainat', '64', '78', '83'],\n",
       " ['122', 'Sameer', '65', '79', '84'],\n",
       " ['123', 'Raza', '66', '80', '85'],\n",
       " ['124', 'Kumar', '67', '81', '86'],\n",
       " ['125', 'Komal', '68', '82', '87'],\n",
       " ['126', 'Erum', '69', '83', '88'],\n",
       " ['127', 'Faiza', '70', '84', '89'],\n",
       " ['128', 'Saeed', '71', '85', '90'],\n",
       " ['129', 'Waqar', '72', '86', '91'],\n",
       " ['130', 'Wali', '73', '87', '92'],\n",
       " ['131', 'Wajid', '74', '88', '93'],\n",
       " ['132', 'Waseeb', '75', '89', '94'],\n",
       " ['133', 'Shiza', '76', '90', '95'],\n",
       " ['134', 'Shabina', '77', '91', '96'],\n",
       " ['135', 'Shazain', '78', '55', '97'],\n",
       " ['136', 'Lubna', '79', '61', '98'],\n",
       " ['137', 'Laiba', '80', '88', '78'],\n",
       " ['138', 'Khursheed', '81', '56', '45'],\n",
       " ['139', 'Ali', '82', '89', '46'],\n",
       " ['140', 'Aiza', '83', '45', '89'],\n",
       " ['141', 'Aiman', '84', '92', '78'],\n",
       " ['142', 'Yasmeen', '85', '36', '56'],\n",
       " ['143', 'Tasbeel', '86', '78', '78'],\n",
       " ['144', 'Laraib', '87', '56', '54'],\n",
       " ['145', 'Saleem', '88', '78', '78'],\n",
       " ['146', 'Bismil', '89', '89', '46'],\n",
       " ['147', 'Batool', '90', '56', '79'],\n",
       " ['148', 'Iqra', '91', '33', '46'],\n",
       " ['149', 'Zarnish', '92', '78', '45'],\n",
       " ['150', 'Zara', '83', '45', '56']]"
      ]
     },
     "execution_count": 5,
     "metadata": {},
     "output_type": "execute_result"
    }
   ],
   "source": [
    "student_data = data[1:]\n",
    "student_data"
   ]
  },
  {
   "cell_type": "code",
   "execution_count": 6,
   "id": "f86a34dd-6170-4187-9923-54b2f0e28898",
   "metadata": {},
   "outputs": [
    {
     "data": {
      "text/plain": [
       "'23'"
      ]
     },
     "execution_count": 6,
     "metadata": {},
     "output_type": "execute_result"
    }
   ],
   "source": [
    "student_data[0][3]"
   ]
  },
  {
   "cell_type": "code",
   "execution_count": 7,
   "id": "7179afef-7c0d-4456-88b1-d756c3c3f552",
   "metadata": {},
   "outputs": [
    {
     "data": {
      "text/plain": [
       "[23.0,\n",
       " 24.0,\n",
       " 25.0,\n",
       " 26.0,\n",
       " 27.0,\n",
       " 28.0,\n",
       " 29.0,\n",
       " 30.0,\n",
       " 31.0,\n",
       " 67.0,\n",
       " 68.0,\n",
       " 69.0,\n",
       " 70.0,\n",
       " 71.0,\n",
       " 72.0,\n",
       " 73.0,\n",
       " 74.0,\n",
       " 75.0,\n",
       " 76.0,\n",
       " 77.0,\n",
       " 78.0,\n",
       " 79.0,\n",
       " 80.0,\n",
       " 81.0,\n",
       " 82.0,\n",
       " 83.0,\n",
       " 84.0,\n",
       " 85.0,\n",
       " 86.0,\n",
       " 87.0,\n",
       " 88.0,\n",
       " 89.0,\n",
       " 90.0,\n",
       " 91.0,\n",
       " 55.0,\n",
       " 61.0,\n",
       " 88.0,\n",
       " 56.0,\n",
       " 89.0,\n",
       " 45.0,\n",
       " 92.0,\n",
       " 36.0,\n",
       " 78.0,\n",
       " 56.0,\n",
       " 78.0,\n",
       " 89.0,\n",
       " 56.0,\n",
       " 33.0,\n",
       " 78.0,\n",
       " 45.0]"
      ]
     },
     "execution_count": 7,
     "metadata": {},
     "output_type": "execute_result"
    }
   ],
   "source": [
    "phy_marks = [float(i[3]) for i in student_data]\n",
    "phy_marks"
   ]
  },
  {
   "cell_type": "code",
   "execution_count": 8,
   "id": "40093cf3-0692-49d9-86c3-7849aa5c625f",
   "metadata": {},
   "outputs": [
    {
     "data": {
      "text/plain": [
       "65.06"
      ]
     },
     "execution_count": 8,
     "metadata": {},
     "output_type": "execute_result"
    }
   ],
   "source": [
    "average_phy_marks = sum(phy_marks)/len(phy_marks)\n",
    "average_phy_marks"
   ]
  },
  {
   "cell_type": "code",
   "execution_count": 9,
   "id": "fe88d2af-1391-4eb2-9ade-8a3ea87c86c9",
   "metadata": {},
   "outputs": [
    {
     "data": {
      "text/plain": [
       "[87.0,\n",
       " 88.0,\n",
       " 89.0,\n",
       " 90.0,\n",
       " 67.0,\n",
       " 68.0,\n",
       " 69.0,\n",
       " 70.0,\n",
       " 71.0,\n",
       " 72.0,\n",
       " 73.0,\n",
       " 74.0,\n",
       " 75.0,\n",
       " 76.0,\n",
       " 77.0,\n",
       " 78.0,\n",
       " 79.0,\n",
       " 80.0,\n",
       " 81.0,\n",
       " 82.0,\n",
       " 83.0,\n",
       " 84.0,\n",
       " 85.0,\n",
       " 86.0,\n",
       " 87.0,\n",
       " 88.0,\n",
       " 89.0,\n",
       " 90.0,\n",
       " 91.0,\n",
       " 92.0,\n",
       " 93.0,\n",
       " 94.0,\n",
       " 95.0,\n",
       " 96.0,\n",
       " 97.0,\n",
       " 98.0,\n",
       " 78.0,\n",
       " 45.0,\n",
       " 46.0,\n",
       " 89.0,\n",
       " 78.0,\n",
       " 56.0,\n",
       " 78.0,\n",
       " 54.0,\n",
       " 78.0,\n",
       " 46.0,\n",
       " 79.0,\n",
       " 46.0,\n",
       " 45.0,\n",
       " 56.0]"
      ]
     },
     "execution_count": 9,
     "metadata": {},
     "output_type": "execute_result"
    }
   ],
   "source": [
    "maths_marks = [float(i[4]) for i in student_data]\n",
    "maths_marks"
   ]
  },
  {
   "cell_type": "code",
   "execution_count": 10,
   "id": "7de92e4c-ee9d-48d0-8209-0fd474dff2d1",
   "metadata": {},
   "outputs": [
    {
     "data": {
      "text/plain": [
       "77.36"
      ]
     },
     "execution_count": 10,
     "metadata": {},
     "output_type": "execute_result"
    }
   ],
   "source": [
    "average_math_marks = sum(maths_marks)/len(maths_marks)\n",
    "average_math_marks"
   ]
  },
  {
   "cell_type": "code",
   "execution_count": 29,
   "id": "d504293b-a71e-4d8c-a2e7-798d3d7cfeb0",
   "metadata": {},
   "outputs": [
    {
     "data": {
      "text/plain": [
       "[50.0,\n",
       " 45.0,\n",
       " 46.0,\n",
       " 47.0,\n",
       " 48.0,\n",
       " 49.0,\n",
       " 50.0,\n",
       " 51.0,\n",
       " 52.0,\n",
       " 53.0,\n",
       " 54.0,\n",
       " 55.0,\n",
       " 56.0,\n",
       " 57.0,\n",
       " 58.0,\n",
       " 59.0,\n",
       " 60.0,\n",
       " 61.0,\n",
       " 62.0,\n",
       " 63.0,\n",
       " 64.0,\n",
       " 65.0,\n",
       " 66.0,\n",
       " 67.0,\n",
       " 68.0,\n",
       " 69.0,\n",
       " 70.0,\n",
       " 71.0,\n",
       " 72.0,\n",
       " 73.0,\n",
       " 74.0,\n",
       " 75.0,\n",
       " 76.0,\n",
       " 77.0,\n",
       " 78.0,\n",
       " 79.0,\n",
       " 80.0,\n",
       " 81.0,\n",
       " 82.0,\n",
       " 83.0,\n",
       " 84.0,\n",
       " 85.0,\n",
       " 86.0,\n",
       " 87.0,\n",
       " 88.0,\n",
       " 89.0,\n",
       " 90.0,\n",
       " 91.0,\n",
       " 92.0,\n",
       " 83.0]"
      ]
     },
     "execution_count": 29,
     "metadata": {},
     "output_type": "execute_result"
    }
   ],
   "source": [
    "chem_marks = [float(i[2]) for i in student_data]\n",
    "chem_marks"
   ]
  },
  {
   "cell_type": "code",
   "execution_count": 12,
   "id": "99ca78c1-34fa-4cf7-af89-52be8bf8dfc8",
   "metadata": {},
   "outputs": [
    {
     "data": {
      "text/plain": [
       "68.42"
      ]
     },
     "execution_count": 12,
     "metadata": {},
     "output_type": "execute_result"
    }
   ],
   "source": [
    "average_chem_marks = sum(chem_marks)/len(chem_marks)\n",
    "average_chem_marks"
   ]
  },
  {
   "cell_type": "code",
   "execution_count": 13,
   "id": "c1245979-3bfb-45c6-b585-781d7d9f3f9a",
   "metadata": {},
   "outputs": [],
   "source": [
    "for marks in student_data:\n",
    "    phy = float(marks[3])\n",
    "    maths = float(marks[4])\n",
    "    chem = float(marks[2])\n",
    "    total_marks = chem+phy+maths\n",
    "    marks.append(total_marks)"
   ]
  },
  {
   "cell_type": "code",
   "execution_count": 14,
   "id": "455d839d-085d-4997-9684-24b7ec5131aa",
   "metadata": {},
   "outputs": [],
   "source": [
    "for percent in student_data:\n",
    "    phy = float(percent[3])\n",
    "    maths = float(percent[4])\n",
    "    chem = float(percent[2])\n",
    "    percentage = round((chem+phy+maths)/300*100,2)\n",
    "    percent_with_sign = f\"{percentage}%\"\n",
    "    percent.append(percent_with_sign)"
   ]
  },
  {
   "cell_type": "code",
   "execution_count": 15,
   "id": "461b9ce3-7808-4e67-aa1c-46260a5b5f4a",
   "metadata": {},
   "outputs": [],
   "source": [
    "for percent in student_data:\n",
    "    phy = float(percent[3])\n",
    "    maths = float(percent[4])\n",
    "    chem = float(percent[2])\n",
    "    percentage = round((chem+phy+maths)/300*100,2)\n",
    "    percent_with_sign = f\"{percentage}%\"\n",
    "    if percentage >= 80:\n",
    "        percent.append(\"A\")\n",
    "    elif percentage >= 70:\n",
    "        percent.append(\"B\")\n",
    "    elif percentage >= 60:\n",
    "        percent.append(\"C\")\n",
    "    elif percentage >= 50:\n",
    "        percent.append(\"D\")\n",
    "    else:\n",
    "        percent.append(\"FAILED\")"
   ]
  },
  {
   "cell_type": "code",
   "execution_count": 16,
   "id": "4e67f237-8d1a-4a71-b7e3-d8fb2eb0976b",
   "metadata": {},
   "outputs": [
    {
     "data": {
      "text/plain": [
       "[['101', 'Aliza', '50', '23', '87', 160.0, '53.33%', 'D'],\n",
       " ['102', 'Fareed', '45', '24', '88', 157.0, '52.33%', 'D'],\n",
       " ['103', 'Basit', '46', '25', '89', 160.0, '53.33%', 'D'],\n",
       " ['104', 'Abdullah', '47', '26', '90', 163.0, '54.33%', 'D'],\n",
       " ['105', 'Ali', '48', '27', '67', 142.0, '47.33%', 'FAILED'],\n",
       " ['106', 'Mubashir', '49', '28', '68', 145.0, '48.33%', 'FAILED'],\n",
       " ['107', 'Waleed', '50', '29', '69', 148.0, '49.33%', 'FAILED'],\n",
       " ['108', 'Mansoor', '51', '30', '70', 151.0, '50.33%', 'D'],\n",
       " ['109', 'Zain', '52', '31', '71', 154.0, '51.33%', 'D'],\n",
       " ['110', 'Mohsin', '53', '67', '72', 192.0, '64.0%', 'C'],\n",
       " ['111', 'Shahmeer', '54', '68', '73', 195.0, '65.0%', 'C'],\n",
       " ['112', 'Rao', '55', '69', '74', 198.0, '66.0%', 'C'],\n",
       " ['113', 'Aurangzeb', '56', '70', '75', 201.0, '67.0%', 'C'],\n",
       " ['114', 'Zeeshan', '57', '71', '76', 204.0, '68.0%', 'C'],\n",
       " ['115', 'Hamna', '58', '72', '77', 207.0, '69.0%', 'C'],\n",
       " ['116', 'Hamza', '59', '73', '78', 210.0, '70.0%', 'B'],\n",
       " ['117', 'Khalid', '60', '74', '79', 213.0, '71.0%', 'B'],\n",
       " ['118', 'Behroz', '61', '75', '80', 216.0, '72.0%', 'B'],\n",
       " ['119', 'Justin', '62', '76', '81', 219.0, '73.0%', 'B'],\n",
       " ['120', 'Danish', '63', '77', '82', 222.0, '74.0%', 'B'],\n",
       " ['121', 'Kainat', '64', '78', '83', 225.0, '75.0%', 'B'],\n",
       " ['122', 'Sameer', '65', '79', '84', 228.0, '76.0%', 'B'],\n",
       " ['123', 'Raza', '66', '80', '85', 231.0, '77.0%', 'B'],\n",
       " ['124', 'Kumar', '67', '81', '86', 234.0, '78.0%', 'B'],\n",
       " ['125', 'Komal', '68', '82', '87', 237.0, '79.0%', 'B'],\n",
       " ['126', 'Erum', '69', '83', '88', 240.0, '80.0%', 'A'],\n",
       " ['127', 'Faiza', '70', '84', '89', 243.0, '81.0%', 'A'],\n",
       " ['128', 'Saeed', '71', '85', '90', 246.0, '82.0%', 'A'],\n",
       " ['129', 'Waqar', '72', '86', '91', 249.0, '83.0%', 'A'],\n",
       " ['130', 'Wali', '73', '87', '92', 252.0, '84.0%', 'A'],\n",
       " ['131', 'Wajid', '74', '88', '93', 255.0, '85.0%', 'A'],\n",
       " ['132', 'Waseeb', '75', '89', '94', 258.0, '86.0%', 'A'],\n",
       " ['133', 'Shiza', '76', '90', '95', 261.0, '87.0%', 'A'],\n",
       " ['134', 'Shabina', '77', '91', '96', 264.0, '88.0%', 'A'],\n",
       " ['135', 'Shazain', '78', '55', '97', 230.0, '76.67%', 'B'],\n",
       " ['136', 'Lubna', '79', '61', '98', 238.0, '79.33%', 'B'],\n",
       " ['137', 'Laiba', '80', '88', '78', 246.0, '82.0%', 'A'],\n",
       " ['138', 'Khursheed', '81', '56', '45', 182.0, '60.67%', 'C'],\n",
       " ['139', 'Ali', '82', '89', '46', 217.0, '72.33%', 'B'],\n",
       " ['140', 'Aiza', '83', '45', '89', 217.0, '72.33%', 'B'],\n",
       " ['141', 'Aiman', '84', '92', '78', 254.0, '84.67%', 'A'],\n",
       " ['142', 'Yasmeen', '85', '36', '56', 177.0, '59.0%', 'D'],\n",
       " ['143', 'Tasbeel', '86', '78', '78', 242.0, '80.67%', 'A'],\n",
       " ['144', 'Laraib', '87', '56', '54', 197.0, '65.67%', 'C'],\n",
       " ['145', 'Saleem', '88', '78', '78', 244.0, '81.33%', 'A'],\n",
       " ['146', 'Bismil', '89', '89', '46', 224.0, '74.67%', 'B'],\n",
       " ['147', 'Batool', '90', '56', '79', 225.0, '75.0%', 'B'],\n",
       " ['148', 'Iqra', '91', '33', '46', 170.0, '56.67%', 'D'],\n",
       " ['149', 'Zarnish', '92', '78', '45', 215.0, '71.67%', 'B'],\n",
       " ['150', 'Zara', '83', '45', '56', 184.0, '61.33%', 'C']]"
      ]
     },
     "execution_count": 16,
     "metadata": {},
     "output_type": "execute_result"
    }
   ],
   "source": [
    "student_data"
   ]
  },
  {
   "cell_type": "code",
   "execution_count": 17,
   "id": "257fd7d9-1300-453a-b15f-8469da7dc1df",
   "metadata": {},
   "outputs": [],
   "source": [
    "data[0].append(\"Total Marks\")\n",
    "data[0].append(\"Percentage\")\n",
    "data[0].append(\"Grade\")"
   ]
  },
  {
   "cell_type": "code",
   "execution_count": 18,
   "id": "610b0bcc-ad96-4a19-a456-1de8634c01bb",
   "metadata": {},
   "outputs": [
    {
     "data": {
      "text/plain": [
       "[['roll no',\n",
       "  'Name',\n",
       "  'Chemistry',\n",
       "  'Physics',\n",
       "  'Math',\n",
       "  'Total Marks',\n",
       "  'Percentage',\n",
       "  'Grade'],\n",
       " ['101', 'Aliza', '50', '23', '87', 160.0, '53.33%', 'D'],\n",
       " ['102', 'Fareed', '45', '24', '88', 157.0, '52.33%', 'D'],\n",
       " ['103', 'Basit', '46', '25', '89', 160.0, '53.33%', 'D'],\n",
       " ['104', 'Abdullah', '47', '26', '90', 163.0, '54.33%', 'D'],\n",
       " ['105', 'Ali', '48', '27', '67', 142.0, '47.33%', 'FAILED'],\n",
       " ['106', 'Mubashir', '49', '28', '68', 145.0, '48.33%', 'FAILED'],\n",
       " ['107', 'Waleed', '50', '29', '69', 148.0, '49.33%', 'FAILED'],\n",
       " ['108', 'Mansoor', '51', '30', '70', 151.0, '50.33%', 'D'],\n",
       " ['109', 'Zain', '52', '31', '71', 154.0, '51.33%', 'D'],\n",
       " ['110', 'Mohsin', '53', '67', '72', 192.0, '64.0%', 'C'],\n",
       " ['111', 'Shahmeer', '54', '68', '73', 195.0, '65.0%', 'C'],\n",
       " ['112', 'Rao', '55', '69', '74', 198.0, '66.0%', 'C'],\n",
       " ['113', 'Aurangzeb', '56', '70', '75', 201.0, '67.0%', 'C'],\n",
       " ['114', 'Zeeshan', '57', '71', '76', 204.0, '68.0%', 'C'],\n",
       " ['115', 'Hamna', '58', '72', '77', 207.0, '69.0%', 'C'],\n",
       " ['116', 'Hamza', '59', '73', '78', 210.0, '70.0%', 'B'],\n",
       " ['117', 'Khalid', '60', '74', '79', 213.0, '71.0%', 'B'],\n",
       " ['118', 'Behroz', '61', '75', '80', 216.0, '72.0%', 'B'],\n",
       " ['119', 'Justin', '62', '76', '81', 219.0, '73.0%', 'B'],\n",
       " ['120', 'Danish', '63', '77', '82', 222.0, '74.0%', 'B'],\n",
       " ['121', 'Kainat', '64', '78', '83', 225.0, '75.0%', 'B'],\n",
       " ['122', 'Sameer', '65', '79', '84', 228.0, '76.0%', 'B'],\n",
       " ['123', 'Raza', '66', '80', '85', 231.0, '77.0%', 'B'],\n",
       " ['124', 'Kumar', '67', '81', '86', 234.0, '78.0%', 'B'],\n",
       " ['125', 'Komal', '68', '82', '87', 237.0, '79.0%', 'B'],\n",
       " ['126', 'Erum', '69', '83', '88', 240.0, '80.0%', 'A'],\n",
       " ['127', 'Faiza', '70', '84', '89', 243.0, '81.0%', 'A'],\n",
       " ['128', 'Saeed', '71', '85', '90', 246.0, '82.0%', 'A'],\n",
       " ['129', 'Waqar', '72', '86', '91', 249.0, '83.0%', 'A'],\n",
       " ['130', 'Wali', '73', '87', '92', 252.0, '84.0%', 'A'],\n",
       " ['131', 'Wajid', '74', '88', '93', 255.0, '85.0%', 'A'],\n",
       " ['132', 'Waseeb', '75', '89', '94', 258.0, '86.0%', 'A'],\n",
       " ['133', 'Shiza', '76', '90', '95', 261.0, '87.0%', 'A'],\n",
       " ['134', 'Shabina', '77', '91', '96', 264.0, '88.0%', 'A'],\n",
       " ['135', 'Shazain', '78', '55', '97', 230.0, '76.67%', 'B'],\n",
       " ['136', 'Lubna', '79', '61', '98', 238.0, '79.33%', 'B'],\n",
       " ['137', 'Laiba', '80', '88', '78', 246.0, '82.0%', 'A'],\n",
       " ['138', 'Khursheed', '81', '56', '45', 182.0, '60.67%', 'C'],\n",
       " ['139', 'Ali', '82', '89', '46', 217.0, '72.33%', 'B'],\n",
       " ['140', 'Aiza', '83', '45', '89', 217.0, '72.33%', 'B'],\n",
       " ['141', 'Aiman', '84', '92', '78', 254.0, '84.67%', 'A'],\n",
       " ['142', 'Yasmeen', '85', '36', '56', 177.0, '59.0%', 'D'],\n",
       " ['143', 'Tasbeel', '86', '78', '78', 242.0, '80.67%', 'A'],\n",
       " ['144', 'Laraib', '87', '56', '54', 197.0, '65.67%', 'C'],\n",
       " ['145', 'Saleem', '88', '78', '78', 244.0, '81.33%', 'A'],\n",
       " ['146', 'Bismil', '89', '89', '46', 224.0, '74.67%', 'B'],\n",
       " ['147', 'Batool', '90', '56', '79', 225.0, '75.0%', 'B'],\n",
       " ['148', 'Iqra', '91', '33', '46', 170.0, '56.67%', 'D'],\n",
       " ['149', 'Zarnish', '92', '78', '45', 215.0, '71.67%', 'B'],\n",
       " ['150', 'Zara', '83', '45', '56', 184.0, '61.33%', 'C']]"
      ]
     },
     "execution_count": 18,
     "metadata": {},
     "output_type": "execute_result"
    }
   ],
   "source": [
    "data"
   ]
  },
  {
   "cell_type": "code",
   "execution_count": 46,
   "id": "24e21726-91c8-4489-8a68-7dc458989687",
   "metadata": {},
   "outputs": [
    {
     "name": "stdout",
     "output_type": "stream",
     "text": [
      "['Shabina'] have maximum marks 264\n"
     ]
    }
   ],
   "source": [
    "#student who gets max marks\n",
    "marks = [int(i[5]) for i in student_data]\n",
    "max_marks = max(marks)\n",
    "\n",
    "top_student = [i[1] for i in student_data if int(i[5]) == max_marks]\n",
    "print(f\"{top_student} have maximum marks {max_marks}\")"
   ]
  },
  {
   "cell_type": "code",
   "execution_count": 48,
   "id": "11097475-6f32-47c7-8e21-dbc66e432d59",
   "metadata": {},
   "outputs": [
    {
     "name": "stdout",
     "output_type": "stream",
     "text": [
      "['Ali'] have minimum marks 142\n"
     ]
    }
   ],
   "source": [
    "#student who gets min marks\n",
    "marks = [int(i[5]) for i in student_data]\n",
    "min_marks = min(marks)\n",
    "\n",
    "top_student = [i[1] for i in student_data if int(i[5]) == min_marks]\n",
    "print(f\"{top_student} have minimum marks {min_marks}\")"
   ]
  },
  {
   "cell_type": "code",
   "execution_count": 20,
   "id": "b3456b3b-b2fe-4806-9945-36413202cce1",
   "metadata": {},
   "outputs": [
    {
     "data": {
      "text/plain": [
       "<_io.TextIOWrapper name='StudentMarks.csv' mode='w' encoding='cp1252'>"
      ]
     },
     "execution_count": 20,
     "metadata": {},
     "output_type": "execute_result"
    }
   ],
   "source": [
    "open_file = open(\"StudentMarks.csv\",mode=\"w\",newline=\"\")\n",
    "open_file"
   ]
  },
  {
   "cell_type": "code",
   "execution_count": 21,
   "id": "535813d7-1977-4ebb-b2b5-035f117b290b",
   "metadata": {},
   "outputs": [
    {
     "data": {
      "text/plain": [
       "<_csv.writer at 0x23552bb7be0>"
      ]
     },
     "execution_count": 21,
     "metadata": {},
     "output_type": "execute_result"
    }
   ],
   "source": [
    "writer = csv.writer(open_file)\n",
    "writer"
   ]
  },
  {
   "cell_type": "code",
   "execution_count": 22,
   "id": "8dec5fa9-25cf-41eb-971e-22fa67eb8b43",
   "metadata": {},
   "outputs": [],
   "source": [
    "writer.writerows(data)"
   ]
  },
  {
   "cell_type": "code",
   "execution_count": 23,
   "id": "3bbd49f1-6b4a-4e57-8c52-817ca9659667",
   "metadata": {},
   "outputs": [],
   "source": [
    "open_file.close()"
   ]
  },
  {
   "cell_type": "code",
   "execution_count": null,
   "id": "6e830ea5-5ab1-446c-b35c-0bea0cde1ac7",
   "metadata": {},
   "outputs": [],
   "source": []
  },
  {
   "cell_type": "code",
   "execution_count": null,
   "id": "624457e4-413e-4c1f-b06c-503ff956b96b",
   "metadata": {},
   "outputs": [],
   "source": []
  },
  {
   "cell_type": "code",
   "execution_count": null,
   "id": "47122b0b-899d-451b-a52b-ec7dc37b8843",
   "metadata": {},
   "outputs": [],
   "source": []
  }
 ],
 "metadata": {
  "kernelspec": {
   "display_name": "Python 3 (ipykernel)",
   "language": "python",
   "name": "python3"
  },
  "language_info": {
   "codemirror_mode": {
    "name": "ipython",
    "version": 3
   },
   "file_extension": ".py",
   "mimetype": "text/x-python",
   "name": "python",
   "nbconvert_exporter": "python",
   "pygments_lexer": "ipython3",
   "version": "3.12.4"
  }
 },
 "nbformat": 4,
 "nbformat_minor": 5
}

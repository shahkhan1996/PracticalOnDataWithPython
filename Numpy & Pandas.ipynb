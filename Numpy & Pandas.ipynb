{
 "cells": [
  {
   "cell_type": "markdown",
   "id": "2188b9c1-dc11-4810-adc8-4d07f7930132",
   "metadata": {},
   "source": [
    "Numpy"
   ]
  },
  {
   "cell_type": "code",
   "execution_count": 14,
   "id": "8d46d683-0c0e-4d0c-aee2-cb0f84fcbf13",
   "metadata": {},
   "outputs": [
    {
     "name": "stdout",
     "output_type": "stream",
     "text": [
      "Addition: [ 3  7 11 15 19]\n",
      "Subtraction: [-1 -1 -1 -1 -1]\n",
      "Multiplication: [ 2 12 30 56 90]\n",
      "Division: 0.5\n"
     ]
    }
   ],
   "source": [
    "# Create a NumPy array and perform various operations like addition, subtraction, multiplication, and division.\n",
    "import numpy as np\n",
    "\n",
    "arr1 = np.array([1,3,5,7,9])\n",
    "arr2 = np.array([2,4,6,8,10])\n",
    "\n",
    "#addiion of two arrays\n",
    "add = arr1 + arr2\n",
    "print(f\"Addition: {add}\")\n",
    "\n",
    "#substraction of two arrays\n",
    "sub = arr1 - arr2\n",
    "print(f\"Subtraction: {sub}\")\n",
    "\n",
    "#multiplication of two arrays\n",
    "multiply = arr1 * arr2\n",
    "print(f\"Multiplication: {multiply}\")\n",
    "\n",
    "arr3 = 2\n",
    "arr4 = 4\n",
    "#division of two arrays\n",
    "division = arr3 / arr4\n",
    "print(f\"Division: {division}\")"
   ]
  },
  {
   "cell_type": "code",
   "execution_count": 32,
   "id": "76d0a740-74a9-4283-b69e-e4f2f6e4efdc",
   "metadata": {},
   "outputs": [
    {
     "name": "stdout",
     "output_type": "stream",
     "text": [
      "indexing 10\n",
      "indexing 30\n",
      "slicing [20 30]\n",
      "slicing with steps [10]\n",
      "negative ind 80\n",
      "number 3\n",
      "number [[2 3]\n",
      " [5 6]\n",
      " [8 9]]\n"
     ]
    }
   ],
   "source": [
    "#Explore indexing and slicing to access specific elements or subsets of the array.\n",
    "\n",
    "#indexing\n",
    "array = np.array([10,20,30,40,50,60,70,80])\n",
    "print(\"indexing\", array[0])\n",
    "print(\"indexing\", array[2])\n",
    "\n",
    "#slicing\n",
    "print(\"slicing\", array[1:3])\n",
    "\n",
    "# Slicing with a step\n",
    "print(\"slicing with steps\", array[0:2:4])\n",
    "\n",
    "# negative indexing\n",
    "print(\"negative ind\", array[-1])\n",
    "\n",
    "#multi_dimensional array\n",
    "array_2d = np.array([[1,2,3],\n",
    "                     [4,5,6],\n",
    "                     [7,8,9]])\n",
    "\n",
    "print(\"number\", array_2d[0,2])\n",
    "\n",
    "#slicing in 2d array\n",
    "array_2d = np.array([[1,2,3,33,22,55],\n",
    "                     [4,5,6,88,22,74],\n",
    "                     [7,8,9,73,92,92]])\n",
    "\n",
    "print(\"number\", array_2d[0:3, 1:3])"
   ]
  },
  {
   "cell_type": "code",
   "execution_count": 37,
   "id": "1e3b2c2c-4925-44e1-8736-9b5340fcdc4a",
   "metadata": {},
   "outputs": [
    {
     "name": "stdout",
     "output_type": "stream",
     "text": [
      "1D Array:\n",
      "[1 2 3 4 5 6]\n",
      "\n",
      "Reshaped 2D Array (2x3):\n",
      "[[1 2 3]\n",
      " [4 5 6]]\n",
      "\n",
      "Transposed Array:\n",
      "[[1 4]\n",
      " [2 5]\n",
      " [3 6]]\n",
      "\n",
      "3D Array (1x2x3):\n",
      "[[[1 2 3]\n",
      "  [4 5 6]]]\n",
      "\n",
      "Flattened Array:\n",
      "[1 2 3 4 5 6]\n",
      "Original Matrix:\n",
      "[[1 2 3]\n",
      " [4 5 6]\n",
      " [7 8 9]]\n",
      "\n",
      "Transposed Matrix using np.transpose():\n",
      "[[1 4 7]\n",
      " [2 5 8]\n",
      " [3 6 9]]\n"
     ]
    }
   ],
   "source": [
    "#Practice reshaping arrays and transposing matrices.\n",
    "import numpy as np\n",
    "# Creating a 1D array\n",
    "array_1d = np.array([1, 2, 3, 4, 5, 6])\n",
    "print(\"1D Array:\")\n",
    "print(array_1d)\n",
    "# Reshape the 1D array to a 2D array (2 rows, 3 columns)\n",
    "array_2d = array_1d.reshape((2, 3))\n",
    "print(\"\\nReshaped 2D Array (2x3):\")\n",
    "print(array_2d)\n",
    "# Transpose the 2D array\n",
    "transposed_array = array_2d.T\n",
    "print(\"\\nTransposed Array:\")\n",
    "print(transposed_array)\n",
    "# Reshape the original array to a 3D array (1x2x3)\n",
    "array_3d = array_1d.reshape((1, 2, 3))\n",
    "print(\"\\n3D Array (1x2x3):\")\n",
    "print(array_3d)\n",
    "# Flatten the 2D array back to a 1D array\n",
    "flattened_array = array_2d.flatten()\n",
    "print(\"\\nFlattened Array:\")\n",
    "print(flattened_array)\n",
    "\n",
    "# Create a 2D array (matrix)\n",
    "matrix = np.array([[1, 2, 3],\n",
    "                   [4, 5, 6],\n",
    "                   [7, 8, 9]])\n",
    "print(\"Original Matrix:\")\n",
    "print(matrix)\n",
    "# Transpose using np.transpose()\n",
    "transposed_matrix_np = np.transpose(matrix)\n",
    "print(\"\\nTransposed Matrix using np.transpose():\")\n",
    "print(transposed_matrix_np)\n",
    "\n"
   ]
  },
  {
   "cell_type": "code",
   "execution_count": 36,
   "id": "a8eeaae7-a28c-4329-9c11-b62b6a7613b2",
   "metadata": {},
   "outputs": [
    {
     "name": "stdout",
     "output_type": "stream",
     "text": [
      "Mean: 48.2\n",
      "Median: 39.0\n",
      "Standard Deviation: 30.455869713406642\n",
      "Variance: 927.5600000000001\n"
     ]
    }
   ],
   "source": [
    "#Use NumPy functions to calculate statistics like mean, median, standard deviation, and variance.\n",
    "\n",
    "data = np.array([101, 2, 32, 40, 22, 77, 70, 81, 38, 19])\n",
    "                \n",
    "# Calculate the mean\n",
    "mean_val = np.mean(data)\n",
    "print(\"Mean:\", mean_val)\n",
    "\n",
    "# Calculate the median\n",
    "median_val = np.median(data)\n",
    "print(\"Median:\", median_val)\n",
    "\n",
    "# Calculate the standard deviation\n",
    "std_dev = np.std(data)\n",
    "print(\"Standard Deviation:\", std_dev)\n",
    "\n",
    "# Calculate the variance\n",
    "variance_val = np.var(data)\n",
    "print(\"Variance:\", variance_val)\n"
   ]
  },
  {
   "cell_type": "code",
   "execution_count": 40,
   "id": "0710a9b0-aa23-4c6a-81bc-cc94b63fd6cb",
   "metadata": {},
   "outputs": [
    {
     "name": "stdout",
     "output_type": "stream",
     "text": [
      "Integer Array: [2 3 5 6]\n",
      "Float Array: [1.2   2.33  3.223 4.44  5.115]\n",
      "Boolean Array: [ True False  True False]\n",
      "String Array: ['car' 'ship' 'bike']\n",
      "int+float concatenated array:  [2.    3.    5.    6.    1.2   2.33  3.223 4.44  5.115]\n",
      "Sorted Integer Array (Ascending): [2 3 5 6]\n",
      "Sorted String Array (Ascending): ['bike' 'car' 'ship']\n"
     ]
    }
   ],
   "source": [
    "# Create arrays with different data types (e.g., int, float, bool, str).\n",
    "# Concatenate arrays.\n",
    "# Sort arrays in ascending or descending order.\n",
    "\n",
    "# Integer array\n",
    "int_array = np.array([2,3,5,6])\n",
    "print(\"Integer Array:\", int_array)\n",
    "\n",
    "# Float array\n",
    "float_array = np.array([1.2, 2.33, 3.223, 4.44, 5.115])\n",
    "print(\"Float Array:\", float_array)\n",
    "\n",
    "# Boolean array\n",
    "bool_array = np.array([True, False, True, False])\n",
    "print(\"Boolean Array:\", bool_array)\n",
    "\n",
    "# String array\n",
    "str_array = np.array([\"car\", \"ship\", \"bike\"])\n",
    "print(\"String Array:\", str_array)\n",
    "\n",
    "#concatenate array\n",
    "conc_array = np.concatenate((int_array, float_array))\n",
    "print(\"int+float concatenated array: \", conc_array)\n",
    "\n",
    "#sorting array\n",
    "sort_int_array = np.sort(int_array)\n",
    "print(\"Sorted Integer Array (Ascending):\", sort_int_array)\n",
    "\n",
    "\n",
    "sort_str_array = np.sort(str_array)\n",
    "print(\"Sorted String Array (Ascending):\", sort_str_array)"
   ]
  },
  {
   "cell_type": "markdown",
   "id": "4ed9338d-ea1e-4686-b42b-040cb394a336",
   "metadata": {},
   "source": [
    "Pandas"
   ]
  },
  {
   "cell_type": "code",
   "execution_count": 2,
   "id": "66fcda16-4cfb-4303-99eb-3ad06c568173",
   "metadata": {},
   "outputs": [
    {
     "name": "stdout",
     "output_type": "stream",
     "text": [
      "                            track_name    artist(s)_name  artist_count  \\\n",
      "0  Seven (feat. Latto) (Explicit Ver.)  Latto, Jung Kook             2   \n",
      "1                                 LALA       Myke Towers             1   \n",
      "2                              vampire    Olivia Rodrigo             1   \n",
      "3                         Cruel Summer      Taylor Swift             1   \n",
      "4                       WHERE SHE GOES         Bad Bunny             1   \n",
      "\n",
      "   released_year  released_month  released_day  in_spotify_playlists  \\\n",
      "0           2023               7            14                   553   \n",
      "1           2023               3            23                  1474   \n",
      "2           2023               6            30                  1397   \n",
      "3           2019               8            23                  7858   \n",
      "4           2023               5            18                  3133   \n",
      "\n",
      "   in_spotify_charts    streams  in_apple_playlists  ...  key   mode  \\\n",
      "0                147  141381703                  43  ...    B  Major   \n",
      "1                 48  133716286                  48  ...   C#  Major   \n",
      "2                113  140003974                  94  ...    F  Major   \n",
      "3                100  800840817                 116  ...    A  Major   \n",
      "4                 50  303236322                  84  ...    A  Minor   \n",
      "\n",
      "   danceability_% valence_%  energy_% acousticness_% instrumentalness_%  \\\n",
      "0              80        89        83             31                  0   \n",
      "1              71        61        74              7                  0   \n",
      "2              51        32        53             17                  0   \n",
      "3              55        58        72             11                  0   \n",
      "4              65        23        80             14                 63   \n",
      "\n",
      "   liveness_%  speechiness_%  \\\n",
      "0           8              4   \n",
      "1          10              4   \n",
      "2          31              6   \n",
      "3          11             15   \n",
      "4          11              6   \n",
      "\n",
      "                                           cover_url  \n",
      "0                                          Not Found  \n",
      "1  https://i.scdn.co/image/ab67616d0000b2730656d5...  \n",
      "2  https://i.scdn.co/image/ab67616d0000b273e85259...  \n",
      "3  https://i.scdn.co/image/ab67616d0000b273e787cf...  \n",
      "4  https://i.scdn.co/image/ab67616d0000b273ab5c9c...  \n",
      "\n",
      "[5 rows x 25 columns]\n"
     ]
    }
   ],
   "source": [
    "# Load data from various sources (e.g., CSV, Excel, JSON).\n",
    "\n",
    "import pandas as pd\n",
    "\n",
    "df_csv = pd.read_csv('Spotify.csv')\n",
    "print(df_csv.head())"
   ]
  },
  {
   "cell_type": "code",
   "execution_count": 8,
   "id": "726e9402-1bf4-40ef-9211-464d298ce26c",
   "metadata": {},
   "outputs": [
    {
     "name": "stdout",
     "output_type": "stream",
     "text": [
      "                     Country  Year Rank  Total  S1: Demographic Pressures  \\\n",
      "0                    Somalia  2023  1st  111.9                       10.0   \n",
      "1                      Yemen  2023  2nd  108.9                        9.6   \n",
      "2                South Sudan  2023  3rd  108.5                        9.7   \n",
      "3  Congo Democratic Republic  2023  4th  107.2                        9.7   \n",
      "4                      Syria  2023  5th  107.1                        7.4   \n",
      "\n",
      "   S2: Refugees and IDPs  C3: Group Grievance  \\\n",
      "0                    9.0                  8.7   \n",
      "1                    9.6                  8.8   \n",
      "2                   10.0                  8.6   \n",
      "3                    9.8                  9.4   \n",
      "4                    9.1                  9.1   \n",
      "\n",
      "   E3: Human Flight and Brain Drain  E2: Economic Inequality  E1: Economy  \\\n",
      "0                               8.6                      9.1          9.5   \n",
      "1                               6.4                      7.9          9.9   \n",
      "2                               6.5                      8.6          8.6   \n",
      "3                               6.4                      8.4          8.1   \n",
      "4                               8.0                      6.5          9.6   \n",
      "\n",
      "   P1: State Legitimacy  P2: Public Services  P3: Human Rights  \\\n",
      "0                   9.6                  9.8               9.0   \n",
      "1                   9.8                  9.6               9.6   \n",
      "2                   9.8                  9.7               8.7   \n",
      "3                   9.3                  9.3               9.3   \n",
      "4                  10.0                  9.0               9.1   \n",
      "\n",
      "   C1: Security Apparatus  C2: Factionalized Elites  X1: External Intervention  \n",
      "0                     9.5                      10.0                        9.1  \n",
      "1                     8.6                       9.9                        9.2  \n",
      "2                     9.9                       9.2                        9.2  \n",
      "3                     8.8                       9.6                        9.1  \n",
      "4                     9.4                       9.9                       10.0  \n"
     ]
    }
   ],
   "source": [
    "# Load Excel file\n",
    "df_excel = pd.read_excel('FSI-2023-DOWNLOAD.xlsx')\n",
    "print(df_excel.head())\n"
   ]
  },
  {
   "cell_type": "code",
   "execution_count": 9,
   "id": "302babe9-a944-4180-8756-000a2fd631b3",
   "metadata": {},
   "outputs": [
    {
     "name": "stdout",
     "output_type": "stream",
     "text": [
      "                           103         104         101\n",
      "Employee ID                103         104         101\n",
      "Name                     Ahmed        Eman       Alice\n",
      "Position     Head of Marketing  HR Manager         I.T\n",
      "Salary              99999999.0    226262.0     33733.0\n",
      "Department   Central Marketing          HR  Production\n"
     ]
    }
   ],
   "source": [
    "# Load JSON file\n",
    "df_json = pd.read_json('employees.json')\n",
    "print(df_json.head())\n"
   ]
  },
  {
   "cell_type": "code",
   "execution_count": 10,
   "id": "c6eebce9-6aab-4210-aba6-0fbcdd982ed3",
   "metadata": {},
   "outputs": [
    {
     "name": "stdout",
     "output_type": "stream",
     "text": [
      "                            track_name    artist(s)_name  artist_count  \\\n",
      "0  Seven (feat. Latto) (Explicit Ver.)  Latto, Jung Kook             2   \n",
      "1                                 LALA       Myke Towers             1   \n",
      "2                              vampire    Olivia Rodrigo             1   \n",
      "3                         Cruel Summer      Taylor Swift             1   \n",
      "4                       WHERE SHE GOES         Bad Bunny             1   \n",
      "\n",
      "   released_year  released_month  released_day  in_spotify_playlists  \\\n",
      "0           2023               7            14                   553   \n",
      "1           2023               3            23                  1474   \n",
      "2           2023               6            30                  1397   \n",
      "3           2019               8            23                  7858   \n",
      "4           2023               5            18                  3133   \n",
      "\n",
      "   in_spotify_charts    streams  in_apple_playlists  ...  key   mode  \\\n",
      "0                147  141381703                  43  ...    B  Major   \n",
      "1                 48  133716286                  48  ...   C#  Major   \n",
      "2                113  140003974                  94  ...    F  Major   \n",
      "3                100  800840817                 116  ...    A  Major   \n",
      "4                 50  303236322                  84  ...    A  Minor   \n",
      "\n",
      "   danceability_% valence_%  energy_% acousticness_% instrumentalness_%  \\\n",
      "0              80        89        83             31                  0   \n",
      "1              71        61        74              7                  0   \n",
      "2              51        32        53             17                  0   \n",
      "3              55        58        72             11                  0   \n",
      "4              65        23        80             14                 63   \n",
      "\n",
      "   liveness_%  speechiness_%  \\\n",
      "0           8              4   \n",
      "1          10              4   \n",
      "2          31              6   \n",
      "3          11             15   \n",
      "4          11              6   \n",
      "\n",
      "                                           cover_url  \n",
      "0                                          Not Found  \n",
      "1  https://i.scdn.co/image/ab67616d0000b2730656d5...  \n",
      "2  https://i.scdn.co/image/ab67616d0000b273e85259...  \n",
      "3  https://i.scdn.co/image/ab67616d0000b273e787cf...  \n",
      "4  https://i.scdn.co/image/ab67616d0000b273ab5c9c...  \n",
      "\n",
      "[5 rows x 25 columns]\n"
     ]
    }
   ],
   "source": [
    "df_csv = pd.read_csv('Spotify.csv')\n",
    "print(df_csv.head())"
   ]
  },
  {
   "cell_type": "code",
   "execution_count": 14,
   "id": "c074d996-5a5a-4e7c-a8a7-86e585f5634c",
   "metadata": {},
   "outputs": [
    {
     "name": "stdout",
     "output_type": "stream",
     "text": [
      "Shape of the DataFrame: (953, 25)\n"
     ]
    }
   ],
   "source": [
    "# 1. Checking the Shape\n",
    "# Get the shape\n",
    "print(\"Shape of the DataFrame:\", df.shape)"
   ]
  },
  {
   "cell_type": "code",
   "execution_count": 15,
   "id": "79a9830e-0482-4ee3-bfc5-da604c4ed7c6",
   "metadata": {},
   "outputs": [
    {
     "name": "stdout",
     "output_type": "stream",
     "text": [
      "Data Types of the DataFrame:\n",
      "track_name              object\n",
      "artist(s)_name          object\n",
      "artist_count             int64\n",
      "released_year            int64\n",
      "released_month           int64\n",
      "released_day             int64\n",
      "in_spotify_playlists     int64\n",
      "in_spotify_charts        int64\n",
      "streams                 object\n",
      "in_apple_playlists       int64\n",
      "in_apple_charts          int64\n",
      "in_deezer_playlists     object\n",
      "in_deezer_charts         int64\n",
      "in_shazam_charts        object\n",
      "bpm                      int64\n",
      "key                     object\n",
      "mode                    object\n",
      "danceability_%           int64\n",
      "valence_%                int64\n",
      "energy_%                 int64\n",
      "acousticness_%           int64\n",
      "instrumentalness_%       int64\n",
      "liveness_%               int64\n",
      "speechiness_%            int64\n",
      "cover_url               object\n",
      "dtype: object\n"
     ]
    }
   ],
   "source": [
    "# Check data types\n",
    "print(\"Data Types of the DataFrame:\")\n",
    "print(df.dtypes)"
   ]
  },
  {
   "cell_type": "code",
   "execution_count": 16,
   "id": "aa865a26-c414-45a4-93e9-9848b43e20a2",
   "metadata": {},
   "outputs": [
    {
     "name": "stdout",
     "output_type": "stream",
     "text": [
      "Missing Values in each column:\n",
      "in_shazam_charts    50\n",
      "key                 95\n",
      "dtype: int64\n"
     ]
    }
   ],
   "source": [
    "# Check for missing values\n",
    "missing_values = df.isnull().sum()\n",
    "print(\"Missing Values in each column:\")\n",
    "print(missing_values[missing_values > 0])  # Only show columns with missing values"
   ]
  },
  {
   "cell_type": "code",
   "execution_count": 17,
   "id": "7504b856-da54-4514-9986-7d2ea242fc2b",
   "metadata": {},
   "outputs": [
    {
     "name": "stdout",
     "output_type": "stream",
     "text": [
      "Summary Statistics:\n",
      "       artist_count  released_year  released_month  released_day  \\\n",
      "count    953.000000     953.000000      953.000000    953.000000   \n",
      "mean       1.556139    2018.238195        6.033578     13.930745   \n",
      "std        0.893044      11.116218        3.566435      9.201949   \n",
      "min        1.000000    1930.000000        1.000000      1.000000   \n",
      "25%        1.000000    2020.000000        3.000000      6.000000   \n",
      "50%        1.000000    2022.000000        6.000000     13.000000   \n",
      "75%        2.000000    2022.000000        9.000000     22.000000   \n",
      "max        8.000000    2023.000000       12.000000     31.000000   \n",
      "\n",
      "       in_spotify_playlists  in_spotify_charts  in_apple_playlists  \\\n",
      "count            953.000000         953.000000          953.000000   \n",
      "mean            5200.124869          12.009444           67.812172   \n",
      "std             7897.608990          19.575992           86.441493   \n",
      "min               31.000000           0.000000            0.000000   \n",
      "25%              875.000000           0.000000           13.000000   \n",
      "50%             2224.000000           3.000000           34.000000   \n",
      "75%             5542.000000          16.000000           88.000000   \n",
      "max            52898.000000         147.000000          672.000000   \n",
      "\n",
      "       in_apple_charts  in_deezer_charts         bpm  danceability_%  \\\n",
      "count       953.000000        953.000000  953.000000       953.00000   \n",
      "mean         51.908709          2.666317  122.540399        66.96957   \n",
      "std          50.630241          6.035599   28.057802        14.63061   \n",
      "min           0.000000          0.000000   65.000000        23.00000   \n",
      "25%           7.000000          0.000000  100.000000        57.00000   \n",
      "50%          38.000000          0.000000  121.000000        69.00000   \n",
      "75%          87.000000          2.000000  140.000000        78.00000   \n",
      "max         275.000000         58.000000  206.000000        96.00000   \n",
      "\n",
      "        valence_%    energy_%  acousticness_%  instrumentalness_%  liveness_%  \\\n",
      "count  953.000000  953.000000      953.000000          953.000000  953.000000   \n",
      "mean    51.431270   64.279119       27.057712            1.581322   18.213012   \n",
      "std     23.480632   16.550526       25.996077            8.409800   13.711223   \n",
      "min      4.000000    9.000000        0.000000            0.000000    3.000000   \n",
      "25%     32.000000   53.000000        6.000000            0.000000   10.000000   \n",
      "50%     51.000000   66.000000       18.000000            0.000000   12.000000   \n",
      "75%     70.000000   77.000000       43.000000            0.000000   24.000000   \n",
      "max     97.000000   97.000000       97.000000           91.000000   97.000000   \n",
      "\n",
      "       speechiness_%  \n",
      "count     953.000000  \n",
      "mean       10.131165  \n",
      "std         9.912888  \n",
      "min         2.000000  \n",
      "25%         4.000000  \n",
      "50%         6.000000  \n",
      "75%        11.000000  \n",
      "max        64.000000  \n"
     ]
    }
   ],
   "source": [
    "# Summarize the data using descriptive statistics.\n",
    "print(\"Summary Statistics:\")\n",
    "print(df.describe())"
   ]
  },
  {
   "cell_type": "code",
   "execution_count": 32,
   "id": "ba99ab18-3b91-4903-a860-53ae08997608",
   "metadata": {},
   "outputs": [
    {
     "name": "stdout",
     "output_type": "stream",
     "text": [
      "                            track_name    artist(s)_name  artist_count  \\\n",
      "0  Seven (feat. Latto) (Explicit Ver.)  Latto, Jung Kook             2   \n",
      "1                                 LALA       Myke Towers             1   \n",
      "2                              vampire    Olivia Rodrigo             1   \n",
      "3                         Cruel Summer      Taylor Swift             1   \n",
      "4                       WHERE SHE GOES         Bad Bunny             1   \n",
      "\n",
      "   released_year  released_month  released_day  in_spotify_playlists  \\\n",
      "0           2023               7            14                   553   \n",
      "1           2023               3            23                  1474   \n",
      "2           2023               6            30                  1397   \n",
      "3           2019               8            23                  7858   \n",
      "4           2023               5            18                  3133   \n",
      "\n",
      "   in_spotify_charts    streams  in_apple_playlists  ...  key   mode  \\\n",
      "0                147  141381703                  43  ...    B  Major   \n",
      "1                 48  133716286                  48  ...   C#  Major   \n",
      "2                113  140003974                  94  ...    F  Major   \n",
      "3                100  800840817                 116  ...    A  Major   \n",
      "4                 50  303236322                  84  ...    A  Minor   \n",
      "\n",
      "   danceability_% valence_%  energy_% acousticness_% instrumentalness_%  \\\n",
      "0              80        89        83             31                  0   \n",
      "1              71        61        74              7                  0   \n",
      "2              51        32        53             17                  0   \n",
      "3              55        58        72             11                  0   \n",
      "4              65        23        80             14                 63   \n",
      "\n",
      "   liveness_%  speechiness_%  \\\n",
      "0           8              4   \n",
      "1          10              4   \n",
      "2          31              6   \n",
      "3          11             15   \n",
      "4          11              6   \n",
      "\n",
      "                                           cover_url  \n",
      "0                                          Not Found  \n",
      "1  https://i.scdn.co/image/ab67616d0000b2730656d5...  \n",
      "2  https://i.scdn.co/image/ab67616d0000b273e85259...  \n",
      "3  https://i.scdn.co/image/ab67616d0000b273e787cf...  \n",
      "4  https://i.scdn.co/image/ab67616d0000b273ab5c9c...  \n",
      "\n",
      "[5 rows x 25 columns]\n",
      "     released_year  in_spotify_playlists\n",
      "0             2023                   553\n",
      "1             2023                  1474\n",
      "2             2023                  1397\n",
      "3             2019                  7858\n",
      "4             2023                  3133\n",
      "..             ...                   ...\n",
      "948           2022                   953\n",
      "949           2022                  1180\n",
      "950           2022                   573\n",
      "951           2022                  1320\n",
      "952           2022                   782\n",
      "\n",
      "[953 rows x 2 columns]\n"
     ]
    }
   ],
   "source": [
    "import pandas as pd\n",
    "\n",
    "# Read the CSV file\n",
    "df = pd.read_csv('Spotify.csv')\n",
    "print(df.head())\n",
    "# Selecting specific columns\n",
    "selected_columns = df[['released_year', 'in_spotify_playlists']]\n",
    "print(selected_columns)\n"
   ]
  },
  {
   "cell_type": "code",
   "execution_count": 33,
   "id": "8c9095f1-7c12-49cf-99fc-a787ad60e4e4",
   "metadata": {},
   "outputs": [
    {
     "name": "stdout",
     "output_type": "stream",
     "text": [
      "                              track_name      artist(s)_name  artist_count  \\\n",
      "0    Seven (feat. Latto) (Explicit Ver.)    Latto, Jung Kook             2   \n",
      "1                                   LALA         Myke Towers             1   \n",
      "2                                vampire      Olivia Rodrigo             1   \n",
      "3                           Cruel Summer        Taylor Swift             1   \n",
      "4                         WHERE SHE GOES           Bad Bunny             1   \n",
      "..                                   ...                 ...           ...   \n",
      "941        Would've, Could've, Should've        Taylor Swift             1   \n",
      "944                        The Astronaut                 Jin             1   \n",
      "947                        The Great War        Taylor Swift             1   \n",
      "949            Bigger Than The Whole Sky        Taylor Swift             1   \n",
      "951                        En La De Ella  Feid, Sech, Jhayco             3   \n",
      "\n",
      "     released_year  released_month  released_day  in_spotify_playlists  \\\n",
      "0             2023               7            14                   553   \n",
      "1             2023               3            23                  1474   \n",
      "2             2023               6            30                  1397   \n",
      "3             2019               8            23                  7858   \n",
      "4             2023               5            18                  3133   \n",
      "..             ...             ...           ...                   ...   \n",
      "941           2022              10            21                  1715   \n",
      "944           2022              10            28                   481   \n",
      "947           2022              10            21                  1274   \n",
      "949           2022              10            21                  1180   \n",
      "951           2022              10            20                  1320   \n",
      "\n",
      "     in_spotify_charts    streams  in_apple_playlists  ...  key   mode  \\\n",
      "0                  147  141381703                  43  ...    B  Major   \n",
      "1                   48  133716286                  48  ...   C#  Major   \n",
      "2                  113  140003974                  94  ...    F  Major   \n",
      "3                  100  800840817                 116  ...    A  Major   \n",
      "4                   50  303236322                  84  ...    A  Minor   \n",
      "..                 ...        ...                 ...  ...  ...    ...   \n",
      "941                  0  177503916                   4  ...    G  Major   \n",
      "944                  9  203436468                  10  ...    F  Major   \n",
      "947                  0  181382590                   1  ...    F  Major   \n",
      "949                  0  121871870                   4  ...   F#  Major   \n",
      "951                  0  133895612                  29  ...   C#  Major   \n",
      "\n",
      "     danceability_% valence_%  energy_% acousticness_% instrumentalness_%  \\\n",
      "0                80        89        83             31                  0   \n",
      "1                71        61        74              7                  0   \n",
      "2                51        32        53             17                  0   \n",
      "3                55        58        72             11                  0   \n",
      "4                65        23        80             14                 63   \n",
      "..              ...       ...       ...            ...                ...   \n",
      "941              48        55        84             43                  0   \n",
      "944              54        22        76              0                  0   \n",
      "947              57        55        74             22                  0   \n",
      "949              42         7        24             83                  1   \n",
      "951              82        67        77              8                  0   \n",
      "\n",
      "     liveness_%  speechiness_%  \\\n",
      "0             8              4   \n",
      "1            10              4   \n",
      "2            31              6   \n",
      "3            11             15   \n",
      "4            11              6   \n",
      "..          ...            ...   \n",
      "941          15             12   \n",
      "944          14              3   \n",
      "947           8              4   \n",
      "949          12              6   \n",
      "951          12              5   \n",
      "\n",
      "                                             cover_url  \n",
      "0                                            Not Found  \n",
      "1    https://i.scdn.co/image/ab67616d0000b2730656d5...  \n",
      "2    https://i.scdn.co/image/ab67616d0000b273e85259...  \n",
      "3    https://i.scdn.co/image/ab67616d0000b273e787cf...  \n",
      "4    https://i.scdn.co/image/ab67616d0000b273ab5c9c...  \n",
      "..                                                 ...  \n",
      "941  https://i.scdn.co/image/ab67616d0000b2737dca06...  \n",
      "944  https://i.scdn.co/image/ab67616d0000b27343aaff...  \n",
      "947  https://i.scdn.co/image/ab67616d0000b273e0b60c...  \n",
      "949  https://i.scdn.co/image/ab67616d0000b273e0b60c...  \n",
      "951                                          Not Found  \n",
      "\n",
      "[547 rows x 25 columns]\n"
     ]
    }
   ],
   "source": [
    "# Filtering rows where 'column1' > 10\n",
    "filtered_rows = df[df['released_day'] > 10]\n",
    "print(filtered_rows)\n"
   ]
  },
  {
   "cell_type": "code",
   "execution_count": 34,
   "id": "2719ce57-82b1-4b36-ba14-5f1d9738c8ca",
   "metadata": {},
   "outputs": [
    {
     "name": "stdout",
     "output_type": "stream",
     "text": [
      "     in_spotify_charts  in_spotify_playlists\n",
      "0                  147                   553\n",
      "1                   48                  1474\n",
      "2                  113                  1397\n",
      "3                  100                  7858\n",
      "4                   50                  3133\n",
      "..                 ...                   ...\n",
      "937                  0                  1794\n",
      "939                  2                  1652\n",
      "948                  0                   953\n",
      "951                  0                  1320\n",
      "952                  2                   782\n",
      "\n",
      "[754 rows x 2 columns]\n"
     ]
    }
   ],
   "source": [
    "# Selecting rows where 'column1' > 10 and only the columns 'column1' and 'column3'\n",
    "filtered_selection = df.loc[df['in_apple_playlists'] > 10, ['in_spotify_charts', 'in_spotify_playlists']]\n",
    "print(filtered_selection)\n"
   ]
  },
  {
   "cell_type": "code",
   "execution_count": 35,
   "id": "9555be5c-ee70-4049-9ec6-c3b87bf683c4",
   "metadata": {},
   "outputs": [
    {
     "name": "stdout",
     "output_type": "stream",
     "text": [
      "                            track_name    artist(s)_name  artist_count  \\\n",
      "0  Seven (feat. Latto) (Explicit Ver.)  Latto, Jung Kook             2   \n",
      "1                                 LALA       Myke Towers             1   \n",
      "2                              vampire    Olivia Rodrigo             1   \n",
      "3                         Cruel Summer      Taylor Swift             1   \n",
      "4                       WHERE SHE GOES         Bad Bunny             1   \n",
      "\n",
      "   released_year  released_month  released_day  in_spotify_playlists  \\\n",
      "0           2023               7            14                   553   \n",
      "1           2023               3            23                  1474   \n",
      "2           2023               6            30                  1397   \n",
      "3           2019               8            23                  7858   \n",
      "4           2023               5            18                  3133   \n",
      "\n",
      "   in_spotify_charts    streams  in_apple_playlists  ...  key   mode  \\\n",
      "0                147  141381703                  43  ...    B  Major   \n",
      "1                 48  133716286                  48  ...   C#  Major   \n",
      "2                113  140003974                  94  ...    F  Major   \n",
      "3                100  800840817                 116  ...    A  Major   \n",
      "4                 50  303236322                  84  ...    A  Minor   \n",
      "\n",
      "   danceability_% valence_%  energy_% acousticness_% instrumentalness_%  \\\n",
      "0              80        89        83             31                  0   \n",
      "1              71        61        74              7                  0   \n",
      "2              51        32        53             17                  0   \n",
      "3              55        58        72             11                  0   \n",
      "4              65        23        80             14                 63   \n",
      "\n",
      "   liveness_%  speechiness_%  \\\n",
      "0           8              4   \n",
      "1          10              4   \n",
      "2          31              6   \n",
      "3          11             15   \n",
      "4          11              6   \n",
      "\n",
      "                                           cover_url  \n",
      "0                                          Not Found  \n",
      "1  https://i.scdn.co/image/ab67616d0000b2730656d5...  \n",
      "2  https://i.scdn.co/image/ab67616d0000b273e85259...  \n",
      "3  https://i.scdn.co/image/ab67616d0000b273e787cf...  \n",
      "4  https://i.scdn.co/image/ab67616d0000b273ab5c9c...  \n",
      "\n",
      "[5 rows x 25 columns]\n"
     ]
    }
   ],
   "source": [
    "# Using iloc to select the first 5 rows\n",
    "first_five_rows = df.iloc[:5]\n",
    "print(first_five_rows)"
   ]
  },
  {
   "cell_type": "code",
   "execution_count": null,
   "id": "d989d283-7349-4f0c-b8c5-8fc29ec82c86",
   "metadata": {},
   "outputs": [],
   "source": []
  }
 ],
 "metadata": {
  "kernelspec": {
   "display_name": "Python 3 (ipykernel)",
   "language": "python",
   "name": "python3"
  },
  "language_info": {
   "codemirror_mode": {
    "name": "ipython",
    "version": 3
   },
   "file_extension": ".py",
   "mimetype": "text/x-python",
   "name": "python",
   "nbconvert_exporter": "python",
   "pygments_lexer": "ipython3",
   "version": "3.12.4"
  }
 },
 "nbformat": 4,
 "nbformat_minor": 5
}
